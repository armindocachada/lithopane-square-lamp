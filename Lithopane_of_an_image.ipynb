{
  "nbformat": 4,
  "nbformat_minor": 0,
  "metadata": {
    "colab": {
      "name": "Lithopane of an image",
      "provenance": [],
      "collapsed_sections": [],
      "toc_visible": true,
      "include_colab_link": true
    },
    "kernelspec": {
      "name": "python3",
      "display_name": "Python 3"
    },
    "accelerator": "GPU"
  },
  "cells": [
    {
      "cell_type": "markdown",
      "metadata": {
        "id": "view-in-github",
        "colab_type": "text"
      },
      "source": [
        "<a href=\"https://colab.research.google.com/github/armindocachada/lithopane-square-lamp/blob/master/Lithopane_of_an_image.ipynb\" target=\"_parent\"><img src=\"https://colab.research.google.com/assets/colab-badge.svg\" alt=\"Open In Colab\"/></a>"
      ]
    },
    {
      "cell_type": "markdown",
      "metadata": {
        "id": "PCnj57NdzYTg",
        "colab_type": "text"
      },
      "source": [
        "## Setup"
      ]
    },
    {
      "cell_type": "code",
      "metadata": {
        "id": "Sr4wEfjFzV7F",
        "colab_type": "code",
        "outputId": "dcc91992-8546-48e8-9021-0d9f789c00bb",
        "colab": {
          "base_uri": "https://localhost:8080/",
          "height": 582
        }
      },
      "source": [
        "!pip3 install numpy-stl\n",
        "!pip3 install bezier"
      ],
      "execution_count": 4,
      "outputs": [
        {
          "output_type": "stream",
          "text": [
            "Collecting numpy-stl\n",
            "\u001b[?25l  Downloading https://files.pythonhosted.org/packages/a2/08/19caa3c20fd9a486a0a603e329b22578aca7e6f184f0575fcd0980ba3ac5/numpy-stl-2.10.1.tar.gz (483kB)\n",
            "\u001b[K     |████████████████████████████████| 491kB 6.2MB/s \n",
            "\u001b[?25hRequirement already satisfied: numpy in /usr/local/lib/python3.6/dist-packages (from numpy-stl) (1.16.5)\n",
            "Requirement already satisfied: python-utils>=1.6.2 in /usr/local/lib/python3.6/dist-packages (from numpy-stl) (2.3.0)\n",
            "Requirement already satisfied: six in /usr/local/lib/python3.6/dist-packages (from python-utils>=1.6.2->numpy-stl) (1.12.0)\n",
            "Building wheels for collected packages: numpy-stl\n",
            "  Building wheel for numpy-stl (setup.py) ... \u001b[?25l\u001b[?25hdone\n",
            "  Created wheel for numpy-stl: filename=numpy_stl-2.10.1-cp36-cp36m-linux_x86_64.whl size=136410 sha256=feed2826c5907fce102f3dae96d1f2a6d64283827133281d2962b622e5790389\n",
            "  Stored in directory: /root/.cache/pip/wheels/c4/ba/23/3f51157c16bdd7d172389f59b391aa4033a74cb775a2637aca\n",
            "Successfully built numpy-stl\n",
            "Installing collected packages: numpy-stl\n",
            "Successfully installed numpy-stl-2.10.1\n",
            "Collecting bezier\n",
            "\u001b[?25l  Downloading https://files.pythonhosted.org/packages/4a/cc/b14db3b165f5fa7fece7d09b1b5259cd0e6c2395e1a1faf2a96a05f3befb/bezier-0.10.0-cp36-cp36m-manylinux1_x86_64.whl (1.6MB)\n",
            "\u001b[K     |████████████████████████████████| 1.6MB 6.3MB/s \n",
            "\u001b[?25hCollecting numpy>=1.17.0; implementation_name == \"cpython\" (from bezier)\n",
            "\u001b[?25l  Downloading https://files.pythonhosted.org/packages/0e/46/ae6773894f7eacf53308086287897ec568eac9768918d913d5b9d366c5db/numpy-1.17.3-cp36-cp36m-manylinux1_x86_64.whl (20.0MB)\n",
            "\u001b[K     |████████████████████████████████| 20.0MB 41.5MB/s \n",
            "\u001b[?25hRequirement already satisfied: six>=1.12.0 in /usr/local/lib/python3.6/dist-packages (from bezier) (1.12.0)\n",
            "\u001b[31mERROR: datascience 0.10.6 has requirement folium==0.2.1, but you'll have folium 0.8.3 which is incompatible.\u001b[0m\n",
            "\u001b[31mERROR: albumentations 0.1.12 has requirement imgaug<0.2.7,>=0.2.5, but you'll have imgaug 0.2.9 which is incompatible.\u001b[0m\n",
            "Installing collected packages: numpy, bezier\n",
            "  Found existing installation: numpy 1.16.5\n",
            "    Uninstalling numpy-1.16.5:\n",
            "      Successfully uninstalled numpy-1.16.5\n",
            "Successfully installed bezier-0.10.0 numpy-1.17.3\n"
          ],
          "name": "stdout"
        },
        {
          "output_type": "display_data",
          "data": {
            "application/vnd.colab-display-data+json": {
              "pip_warning": {
                "packages": [
                  "numpy"
                ]
              }
            }
          },
          "metadata": {
            "tags": []
          }
        }
      ]
    },
    {
      "cell_type": "code",
      "metadata": {
        "id": "KFmI49RQUcnP",
        "colab_type": "code",
        "outputId": "58626abc-17be-4a14-9645-f804ec898b69",
        "colab": {
          "base_uri": "https://localhost:8080/",
          "height": 207
        }
      },
      "source": [
        "!pip3 install pymesh"
      ],
      "execution_count": 2,
      "outputs": [
        {
          "output_type": "stream",
          "text": [
            "Collecting pymesh\n",
            "  Downloading https://files.pythonhosted.org/packages/94/ca/5a49647246c189856a5fb7d36382893330788035d7734b1447e05641baa6/pymesh-1.0.2.tar.gz\n",
            "Requirement already satisfied: numpy in /usr/local/lib/python3.6/dist-packages (from pymesh) (1.16.5)\n",
            "Building wheels for collected packages: pymesh\n",
            "  Building wheel for pymesh (setup.py) ... \u001b[?25l\u001b[?25hdone\n",
            "  Created wheel for pymesh: filename=pymesh-1.0.2-cp36-none-any.whl size=6918 sha256=ef8568e7ca859ba3cf37e43f142e6e53f18827a251b183b36c771cfef1264fc9\n",
            "  Stored in directory: /root/.cache/pip/wheels/a6/d7/76/ed7121207ca5d4310797e72ae0921f54935d5afaf08bd67855\n",
            "Successfully built pymesh\n",
            "Installing collected packages: pymesh\n",
            "Successfully installed pymesh-1.0.2\n"
          ],
          "name": "stdout"
        }
      ]
    },
    {
      "cell_type": "markdown",
      "metadata": {
        "id": "MSxHTxk_tpFF",
        "colab_type": "text"
      },
      "source": [
        "## Maths functions"
      ]
    },
    {
      "cell_type": "code",
      "metadata": {
        "id": "BlkCrc02JRSo",
        "colab_type": "code",
        "colab": {}
      },
      "source": [
        "#  The distance formula states that the distance between two points in \n",
        "# xyz-space is the square root of the sum of the squares of the differences \n",
        "# between corresponding coordinates. That is, given P1 = (x1,y1,z1) and P2 = (x2,y2,z2), \n",
        "# the distance between P1 and P2 is given by d(P1,P2) = (x2 x1)2 + (y2 y1)2 + (z2 z1)2.\n",
        "import math\n",
        "def distance_points(p1, p2):\n",
        "    (x1,y1,z1)=p1\n",
        "    (x2,y2,z2)=p2\n",
        "    d =math.sqrt(math.pow(x2-x1,2) + math.pow(y2-y1,2) + math.pow(z2-z1,2))\n",
        "    return d\n",
        "    \n",
        "def calculate_teta(startPoint, endPoint):\n",
        "  (x1,y1,z1)=startPoint\n",
        "  (x2,y2,z2)=endPoint\n",
        "  \n",
        "  AB = distance_points(startPoint, endPoint)\n",
        "  AC = math.fabs(x2- x1)\n",
        "  BC = math.fabs(z2-z1)\n",
        "  \n",
        "  print(\"AB={} AC={} BC={}\".format(AB,AC,BC))\n",
        "  if AC==0 or BC==0:\n",
        "    teta = 0\n",
        "  else:\n",
        "    cosine_teta= (math.pow(AB,2) + math.pow(AC,2) - math.pow(BC,2))/(2*AB*AC)\n",
        "    \n",
        "    teta= math.acos(cosine_teta)\n",
        "    \n",
        "  return teta\n",
        "\n",
        "def rotate_point_2d(point, angle):\n",
        "  (px, py) = point\n",
        "  x1 = px * math.cos(angle) - py * math.sin(angle)\n",
        "  y1 = py * math.cos(angle) + px * math.sin(angle)\n",
        "  \n",
        "  return (x1,y1)\n",
        "  "
      ],
      "execution_count": 0,
      "outputs": []
    },
    {
      "cell_type": "markdown",
      "metadata": {
        "id": "aw5ssp5GoVyo",
        "colab_type": "text"
      },
      "source": [
        "## Convert image to numpy array"
      ]
    },
    {
      "cell_type": "code",
      "metadata": {
        "id": "D3a_8AsHyRyD",
        "colab_type": "code",
        "colab": {}
      },
      "source": [
        "import stl\n",
        "import bezier\n",
        "import numpy as np\n",
        "from stl import mesh\n",
        "\n",
        "def combineMeshes(meshes):\n",
        "   mesh_combined = mesh.Mesh(\n",
        "        np.concatenate([mesh.data for mesh in meshes]))\n",
        "\n",
        "   return mesh_combined\n",
        "\n",
        "def createMesh(vertices1, vertices2, resolution = 1):\n",
        "    vertices = np.concatenate([vertices1, vertices2])\n",
        "    vertices = vertices * (resolution, resolution, 1)\n",
        "    line_size = len(vertices1)\n",
        "    faces = []\n",
        "    for i in range(line_size-1):\n",
        "        face = (i, i + line_size, i + line_size + 1)\n",
        "        faces.append(face)\n",
        "        face = (i, i + 1, i + line_size + 1)\n",
        "        faces.append(face)\n",
        "    \n",
        "    faces = np.array(faces)\n",
        "    msh = mesh.Mesh(np.zeros(len(faces), dtype=mesh.Mesh.dtype))\n",
        "    for i, f in enumerate(faces,0):\n",
        "        for j in range(3):\n",
        "            value = vertices[f[j]]\n",
        "            msh.vectors[i][j] = value\n",
        "\n",
        "    return msh\n",
        "\n",
        "from stl import mesh\n",
        "\n",
        "def createLMesh(vertices_lines):\n",
        "    number_lines=len(vertices_lines)\n",
        "    meshes = []\n",
        "    for index, vertices in enumerate(vertices_lines):\n",
        "      if index < number_lines-1:\n",
        "           mesh = createMesh(vertices,vertices_lines[index+1])\n",
        "           meshes.append(mesh)\n",
        "   \n",
        "    return combineMeshes(meshes)\n",
        "  \n",
        "def createBevelMesh(width, height, depth, resolution=1, bezierThreshold=3.0):\n",
        "  bezier_size=10\n",
        "  startPoint = (0,0,0)\n",
        "  (start_x,start_y,start_z)=startPoint\n",
        "  endPoint=(width, 0, height )\n",
        "  (end_x,end_y,end_z)= endPoint\n",
        "  \n",
        "  # bezier curve library only supports 2d, so we have to convert this\n",
        "  # to 2d\n",
        "  # to do that we calculate the distance between the 2 points\n",
        "  # and then translate that value to the x axis\n",
        "  total_distance = distance_points(startPoint, endPoint)\n",
        "  (new_end_x,new_end_y) = (start_x+total_distance, start_y)\n",
        "  \n",
        "  teta = calculate_teta(startPoint, endPoint)\n",
        "  (control_x,control_y) = (int((start_x + new_end_x) / 2), start_y + bezierThreshold)\n",
        "  \n",
        "  \n",
        "  nodes = np.asfortranarray([\n",
        "       [start_x, control_x, new_end_x],\n",
        "       [start_y, control_y, new_end_y],\n",
        "  ])\n",
        "  \n",
        "  curve = bezier.Curve(nodes, degree=2)\n",
        "  s_vals = np.linspace(0.0, 1.0, bezier_size)\n",
        "  points = curve.evaluate_multi(s_vals)\n",
        "  bezier_points = np.stack(points, axis=-1)\n",
        "  vertices=[]\n",
        "  \n",
        "  #zarray = np.arange(depth+1)\n",
        "  zarray = np.arange(depth * resolution +1)\n",
        "  vertices_lines =[]\n",
        "  for z in zarray:\n",
        "    zeds = np.repeat(z,len(bezier_points))\n",
        "    threed_points = np.column_stack((bezier_points,zeds))\n",
        "    vertices_lines.append(threed_points)\n",
        "\n",
        "  vertices_bottom = []\n",
        "  vertices_top = []\n",
        "  #create a face at both ends of the bevel\n",
        "  delta_x = width / bezier_size\n",
        "  print(\"Width: {},delta_x:{}\".format(width,delta_x))\n",
        "  for n in range(bezier_size):\n",
        "    if n == 0:\n",
        "      x = 0\n",
        "    else:\n",
        "      x = delta_x * (n+1)\n",
        "    \n",
        "    y = -height\n",
        "    rotated_point = rotate_point_2d((x,y), teta)\n",
        "    #rotated_point = tuple(np.multiply(rotated_point,(1,-1)))\n",
        "    #rotated_point = np.negative(rotated_point)\n",
        "    \n",
        "    print(\"Rotated Point:{}\".format(rotated_point))\n",
        "    vertices_bottom.append(rotated_point + (0,))\n",
        "    vertices_top.append(rotated_point + (depth * resolution,))\n",
        "    \n",
        "  vertices_lines.insert(0, vertices_bottom)\n",
        "  vertices_lines.append(vertices_top)\n",
        "\n",
        "                     \n",
        "  mesh = createLMesh(vertices_lines)\n",
        "  mesh.rotate((0.5,0.0,0.0), math.radians(90))\n",
        "  dim=get_dimensions(mesh)\n",
        "  print(\"size:{}\".format(dim))\n",
        "  mesh.rotate((0.0,0.5,0.0), math.radians(-90))\n",
        "  mesh.z+=total_distance\n",
        " \n",
        "  mesh.rotate((0.0,0.5,0.0), teta- math.radians(90))\n",
        "  \n",
        "  vertices_left_down = np.array([(0, y, 0) for y in range(0, depth)]) * (1, resolution, 1)\n",
        "  vertices_right_down = np.array([(width, y, 0) for y in range(0, depth)]) * (1, resolution, 1)\n",
        "\n",
        "  mesh_bottom = createMesh(vertices_left_down,vertices_right_down)\n",
        "  \n",
        "  mesh = combineMeshes([mesh_bottom, mesh])\n",
        "  return mesh\n",
        "\n",
        "def createRectangularMesh(height,width, resolution=1):\n",
        "  vertices1 = [(0,0,0),(0,height-1,0)] \n",
        "  vertices2 = [(width-1,0,0),(width-1,height-1,0)]\n",
        "  \n",
        "  return createMesh(vertices1,vertices2, resolution)\n",
        "  \n",
        "  \n",
        "# find the max dimensions, so we can know the bounding box, getting the height,\n",
        "# width, length (because these are the step size)...\n",
        "def get_dimensions(obj):\n",
        "    minx = maxx = miny = maxy = minz = maxz = None\n",
        "    for p in obj.points:  \n",
        "        # p contains (x, y, z)\n",
        "        if minx is None:\n",
        "            minx = p[stl.Dimension.X]\n",
        "            maxx = p[stl.Dimension.X]\n",
        "            miny = p[stl.Dimension.Y]\n",
        "            maxy = p[stl.Dimension.Y]\n",
        "            minz = p[stl.Dimension.Z]\n",
        "            maxz = p[stl.Dimension.Z]\n",
        "           \n",
        "        else:\n",
        "            maxx = max(p[stl.Dimension.X], maxx)\n",
        "            minx = min(p[stl.Dimension.X], minx)\n",
        "            maxy = max(p[stl.Dimension.Y], maxy)\n",
        "            miny = min(p[stl.Dimension.Y], miny)\n",
        "            maxz = max(p[stl.Dimension.Z], maxz)\n",
        "            minz = min(p[stl.Dimension.Z], minz)\n",
        "            \n",
        "\n",
        "            \n",
        "    print(\"MAXZ:{}\".format(maxz))\n",
        "    print(\"MINZ:{}\".format(minz))\n",
        "    return (maxx-minx, maxy-miny, maxz - minz)\n",
        "\n",
        "def get_mesh_coordinates(obj):\n",
        "  minx = maxx = miny = maxy = minz = maxz = None\n",
        "  for p in obj.points:  \n",
        "   # p contains (x, y, z)\n",
        "   if minx is None:\n",
        "      minx = p[stl.Dimension.X]\n",
        "      maxx = p[stl.Dimension.X]\n",
        "      miny = p[stl.Dimension.Y]\n",
        "      maxy = p[stl.Dimension.Y]\n",
        "      minz = p[stl.Dimension.Z]\n",
        "      maxz = p[stl.Dimension.Z]\n",
        "   else:\n",
        "      maxx = max(p[stl.Dimension.X], maxx)\n",
        "      minx = min(p[stl.Dimension.X], minx)\n",
        "      maxy = max(p[stl.Dimension.Y], maxy)\n",
        "      miny = min(p[stl.Dimension.Y], miny)\n",
        "      maxz = max(p[stl.Dimension.Z], maxz)\n",
        "      minz = min(p[stl.Dimension.Z], minz)\n",
        "            \n",
        "  return (minx,maxx,miny,maxy,minz,maxz)\n",
        "\n",
        "def padImage(img, size):\n",
        "    print(\"adding padding to img={}\".format(img))\n",
        "    new_size = img.size\n",
        "    desired_size = size\n",
        "\n",
        "    delta_w = desired_size[0] - new_size[0]\n",
        "    delta_h = desired_size[1] - new_size[1]\n",
        "\n",
        "    padding = (delta_w//2, delta_h//2, delta_w-(delta_w//2), delta_h-(delta_h//2))\n",
        "    new_im = ImageOps.expand(img, padding)\n",
        "    return new_im\n",
        "\n",
        "from PIL import Image, ImageOps    \n",
        "def resizeImage(img, size, padding=False):\n",
        "  (reqWidth, reqHeight) = size\n",
        "  (currentWidth,currentHeight) = img.size\n",
        "  result = img\n",
        "  # if both the width and height are specified\n",
        "  # we use the img.thumbnail function\n",
        "  if reqWidth and reqHeight and reqWidth <= currentWidth and reqHeight <= currentHeight:\n",
        "    img.thumbnail(size, resample=Image.BICUBIC)\n",
        "    if padding: \n",
        "      result = padImage(img, size)\n",
        "  elif reqWidth and reqHeight:\n",
        "    aspectRatio = currentWidth/currentHeight\n",
        "    newHeight = reqHeight\n",
        "    newWidth = reqWidth\n",
        "\n",
        "    calculatedHeight= int(reqWidth / aspectRatio)\n",
        "    newHeight = calculatedHeight\n",
        "\n",
        "    result = img.resize((newWidth,newHeight), resample=Image.BICUBIC)  \n",
        "\n",
        "    if padding: \n",
        "      result = padImage(result, size)\n",
        "\n",
        "    print(newWidth,newHeight)\n",
        "    \n",
        "  else:\n",
        "    #calculate height while maintaining aspect ratio\n",
        "    aspectRatio = currentWidth/currentHeight\n",
        "    newHeight=reqHeight\n",
        "    newWidth= reqWidth\n",
        "    if reqWidth:\n",
        "      calculatedHeight= int(reqWidth / aspectRatio)\n",
        "      newHeight = calculatedHeight\n",
        "    else:\n",
        "      calculatedWidth = int(reqHeight * aspectRatio)\n",
        "      newWidth = calculatedWidth\n",
        "    print(newWidth,newHeight)\n",
        "    \n",
        "    result = img.resize((newWidth,newHeight), resample=Image.BICUBIC)\n",
        "  \n",
        "  return result\n",
        "  \n",
        "def createLithopane(imagePath, maxThickness,size=(500,500),minThickness=0.8, bevel=2.0,lithopaneResolution=0.2, inverse=True):\n",
        "    img = Image.open(imagePath).convert('L')\n",
        "    \n",
        "    (desiredWidthMm, desiredHeightMm) = size\n",
        "    desiredSizePixels = (int(desiredWidthMm / lithopaneResolution) + 1, int(desiredHeightMm/ lithopaneResolution) +1)\n",
        "    print(desiredSizePixels)\n",
        "\n",
        "    img = resizeImage(img,desiredSizePixels,padding=True)    \n",
        "  \n",
        "    data = np.asarray(img, dtype=\"int32\")\n",
        "    if (inverse):\n",
        "      data = np.flip(data, 1) \n",
        "    depth = maxThickness - minThickness\n",
        "    maxValue = np.amax(data)\n",
        "    delta = depth / maxValue\n",
        "    depthArray = data * delta +minThickness\n",
        "    maxDepth = depth + minThickness\n",
        "    shape = depthArray.shape\n",
        "    nrows = shape[0]\n",
        "    ncols = shape[1]\n",
        "    print(\"DepthArray shape:{}\".format(shape))\n",
        "    \n",
        "\n",
        "    # lefdt edge face\n",
        "    # maxLeft = np.amax([depthArray[y,0] for y in range(0, nrows)])\n",
        "    maxLeft = depth    \n",
        "    if bevel==0:\n",
        "      vertices_left_edge_down = np.array([(0, y, 0) for y in range(0, nrows)])\n",
        "      vertices_left_edge_up = np.array([(0, y, maxLeft) for y in range(0, nrows)])\n",
        "      mesh_left_face = createMesh(vertices_left_edge_down, vertices_left_edge_up, resolution = lithopaneResolution)\n",
        "    else:\n",
        "      vertices_left_edge_max = np.array([(0, y, maxLeft) for y in range(0, nrows)])\n",
        "      vertices_left_edge = np.array([(0, y, depthArray[y,0]) for y in range(0, nrows)])\n",
        "      mesh_left_edge = createMesh(vertices_left_edge_max,vertices_left_edge, resolution = lithopaneResolution)\n",
        "      #vertices_left_edge_down = np.array([(0, y, 0) for y in range(0, nrows)])\n",
        "      \n",
        "      meshBevel = createBevelMesh(bevel,maxLeft, nrows -1,  resolution=lithopaneResolution )\n",
        "      meshBevel.x -= bevel\n",
        "      #meshBevel = createBevelMesh(bevel,(0, 0, depth),nrows)\n",
        "      mesh_left_face =combineMeshes([mesh_left_edge,meshBevel])\n",
        "     \n",
        "   #mesh_left_face = createBevelMesh((0,0,0),(0,nrows,0))\n",
        "    # top edge face\n",
        "    vertices_top_edge_down = np.array([(x, 0, 0) for x in range(0, ncols)])\n",
        "    vertices_top_edge_up = np.array([(x, 0, depthArray[0,x]) for x in range(0, ncols)])\n",
        "    mesh_top_face = createMesh(vertices_top_edge_down, vertices_top_edge_up, resolution = lithopaneResolution)\n",
        "\n",
        "    # right edge face\n",
        "    # maxRight = np.amax([depthArray[y,ncols -1] for y in range(0, nrows)])\n",
        "    maxRight = depth   \n",
        "    vertices_right_edge_down = np.array([(ncols - 1, y, 0) for y in range(0, nrows)])\n",
        "    vertices_right_edge_up = np.array([(ncols - 1, y, maxRight) for y in range(0, nrows)])\n",
        "    mesh_right_face = createMesh(vertices_right_edge_down, vertices_right_edge_up, resolution = lithopaneResolution)\n",
        "\n",
        "    vertices_bottom_edge_down = np.array([(x, nrows -1, 0) for x in range(0, ncols)]) \n",
        "    vertices_bottom_edge_up = np.array([(x, nrows -1, depthArray[nrows-1,x]) for x in range(0, ncols)])\n",
        "    mesh_bottom_face = createMesh(vertices_bottom_edge_down, vertices_bottom_edge_up, resolution = lithopaneResolution)\n",
        "\n",
        "    \n",
        "    base_mesh = createRectangularMesh(nrows, ncols, resolution=lithopaneResolution)\n",
        "\n",
        "    sideMeshes = combineMeshes([mesh_left_face,mesh_top_face, mesh_right_face,mesh_bottom_face,base_mesh])\n",
        "\n",
        "    vertices = np.zeros((nrows, ncols, 3))\n",
        "    print(len(vertices))\n",
        "    for x in range(0, ncols):\n",
        "        for y in range(0, nrows):\n",
        "            z = depthArray[y][x]\n",
        "            vertices[y][x] = (x * lithopaneResolution, y * lithopaneResolution, z)\n",
        "        # we have created a list of vertices. From these vertices we now create a list of faces\n",
        "        # using triangles\n",
        "\n",
        "    vertices = np.reshape(vertices, (nrows * ncols, 3))\n",
        "    faces = []\n",
        "    for index, v in enumerate(vertices):\n",
        "        row = int(index / ncols)\n",
        "        if row == nrows - 1:\n",
        "            break\n",
        "        if index - (row * ncols) < ncols - 1:\n",
        "            face = [index, index + ncols, index + ncols + 1]\n",
        "            faces.append(face)\n",
        "            face = [index, index + 1, index + ncols + 1]\n",
        "            faces.append(face)\n",
        "\n",
        "    faces = np.array(faces)\n",
        "\n",
        "    # Create the mesh\n",
        "    lithopane = mesh.Mesh(np.zeros(faces.shape[0], dtype=mesh.Mesh.dtype))\n",
        "    for i, f in enumerate(faces):\n",
        "        for j in range(3):\n",
        "            value = vertices[f[j]]\n",
        "            lithopane.vectors[i][j] = value\n",
        "\n",
        "    \n",
        "    return combineMeshes([lithopane,sideMeshes])\n",
        "\n",
        "def imagesOfSameSize(images):\n",
        "  sizes = set()\n",
        "  for image in images:\n",
        "    img = Image.open( image ).convert('L')\n",
        "    print(\"Size of image: {}\".format(img.size))\n",
        "    size = img.size\n",
        "    sizes.add(size)\n",
        "    \n",
        "  return len(sizes) == 1\n",
        "\n",
        "from PIL import Image\n",
        "def createLamp(images, filepath, lampWidth=100, lampHeight=160):\n",
        "  if not len(images) == 5:\n",
        "     print(\"Expecting 5 images\")\n",
        "     return None\n",
        "  lithopaneBevel = 5.0\n",
        "\n",
        "  lithopane1 = createLithopane(images[0], 5.0,size=(lampWidth,lampWidth),bevel=0.0,inverse=False) \n",
        "  lithopane1.rotate([0.0,0.5,0.0],math.radians(180))\n",
        "  (xwidth,yheight,zdepth) = get_dimensions(lithopane1)\n",
        "  lithopane1.x+=xwidth\n",
        "\n",
        "  lithopane2 = createLithopane(images[1],5.0, size=(lampWidth,lampHeight),bevel=lithopaneBevel)\n",
        "  lithopane2.rotate([0.5, 0.0, 0.0],math.radians(90))\n",
        "  lithopane2.rotate([0.0, 0.0, 0.5],math.radians(180))\n",
        "  (xwidth,yheight,zdepth) = get_dimensions(lithopane2)\n",
        "  lithopane2.x += xwidth - lithopaneBevel\n",
        "\n",
        "  lithopane3 = createLithopane(images[2],5.0, size=(lampWidth,lampHeight),bevel=lithopaneBevel)\n",
        "  lithopane3.rotate([0.5, 0.0, 0.0],math.radians(90))\n",
        "  (xwidth,yheight,zdepth) = get_dimensions(lithopane2)\n",
        "  print(\"Lithopane3 dim:{}\".format((xwidth,yheight,zdepth)))\n",
        "  lithopane3.y += xwidth-lithopaneBevel\n",
        "\n",
        "  lithopane4 = createLithopane(images[3],5.0,size=(lampWidth,lampHeight),bevel=lithopaneBevel)\n",
        "  lithopane4.rotate([0.0, 0.5, 0.0],math.radians(90))\n",
        "  lithopane4.rotate([0.5, 0.0, 0.0],math.radians(90))\n",
        "\n",
        "  lithopane5 = createLithopane(images[4],5.0,size=(lampWidth,lampHeight),bevel=lithopaneBevel)\n",
        "  lithopane5.rotate([0.5, 0.0, 0.0],math.radians(90))\n",
        "  lithopane5.rotate([0.0, 0.0, 0.5],math.radians(90))\n",
        "  lithopane5.x += xwidth- lithopaneBevel\n",
        "  lithopane5.y += xwidth- lithopaneBevel\n",
        "\n",
        "  mesh_combined = mesh.Mesh(np.concatenate([lithopane1.data,lithopane2.data,lithopane3.data,lithopane4.data,lithopane5.data]))\n",
        "  mesh_combined.save(filepath)\n",
        "\n",
        "  # imageTop = images[0]\n",
        "  # imgTop = Image.open( imageTop ).convert('L')  \n",
        "  # (width, height) = img.size\n",
        "  \n",
        "  # if (width != height):\n",
        "  #   print(\"Top image should be a square\")\n",
        "  #   return None\n",
        "  \n",
        "  # imgTop = convertToW\n",
        "  # sideImages = images[1:]\n",
        "  # # other images should be of equal size\n",
        "  # if (not imagesOfSameSize(sideImages)):\n",
        "  #   print(\"Side images are not of same size\")\n",
        "  #   return None\n",
        "\n",
        "def addBorder(mesh, border=2.0):\n",
        "    # given a rectangular mesh, horizontally placed in origin\n",
        "    # we add a border around it\n",
        "    (minx,maxx,miny,maxy,minz,maxz) = get_mesh_coordinates(mesh)\n",
        "    border_bottom_left_up = (minx - border, miny - border, minz)\n",
        "    border_bottom_left_down = (minx - border, maxy + border, minz)\n",
        "\n",
        "    border_bottom_right_up = (maxx + border, miny - border, minz)\n",
        "    border_bottom_right_down = (maxx + border, maxy + border, minz)\n",
        "\n",
        "  "
      ],
      "execution_count": 0,
      "outputs": []
    },
    {
      "cell_type": "code",
      "metadata": {
        "id": "WWQFBCaImL4R",
        "colab_type": "code",
        "outputId": "8879c651-a32b-4d5b-9cc8-76b9bc872fe1",
        "colab": {
          "base_uri": "https://localhost:8080/",
          "height": 456
        }
      },
      "source": [
        "import numpy as np\n",
        "from PIL import Image, ImageOps\n",
        "\n",
        "from PIL import Image\n",
        "img = Image.open( \"/content/shroud_face.png\" ).convert('L')\n",
        "import matplotlib.pyplot as plt\n",
        "\n",
        "img = resizeImage(img, (150,200), padding=True)\n",
        "# plt.imshow(img)    \n",
        "\n",
        "\n",
        "plt.imshow(img)  \n",
        "\n",
        "result = np.array([(0, y, 0) for y in range(0, 10)])\n",
        "print(result)\n",
        "\n"
      ],
      "execution_count": 82,
      "outputs": [
        {
          "output_type": "stream",
          "text": [
            "adding padding to img=<PIL.Image.Image image mode=L size=150x150 at 0x7F624E50CA90>\n",
            "[[0 0 0]\n",
            " [0 1 0]\n",
            " [0 2 0]\n",
            " [0 3 0]\n",
            " [0 4 0]\n",
            " [0 5 0]\n",
            " [0 6 0]\n",
            " [0 7 0]\n",
            " [0 8 0]\n",
            " [0 9 0]]\n"
          ],
          "name": "stdout"
        },
        {
          "output_type": "display_data",
          "data": {
            "image/png": "[encoded data removed]",
            "text/plain": [
              "<Figure size 432x288 with 1 Axes>"
            ]
          },
          "metadata": {
            "tags": []
          }
        }
      ]
    },
    {
      "cell_type": "code",
      "metadata": {
        "id": "zeZI3rSulXdB",
        "colab_type": "code",
        "outputId": "b1438412-4a07-478c-91fd-b5308bd655ca",
        "colab": {
          "base_uri": "https://localhost:8080/",
          "height": 1000
        }
      },
      "source": [
        "import numpy as np\n",
        "from mpl_toolkits import mplot3d\n",
        "from matplotlib import pyplot\n",
        "from stl import mesh\n",
        "\n",
        "\n",
        "\n",
        "\n",
        "createLamp([\"/content/shroud_face.png\",\"/content/shroud_positive_back.png\",\"/content/shroud_positive_front.png\",\"/content/shroud_negative_front.png\",\"/content/shroud_negative_back.png\"],\"lithopane_jesus_shroud.stl\", lampWidth=100, lampHeight=200 )    \n",
        "#createLamp([\"/content/photo_top.jpg\",\"/content/photo_side1.jpg\",\"/content/photo_side2.jpg\",\"/content/photo_side3.jpg\",\"/content/photo_side4.jpg\"],\"lithopane_family.stl\", lampWidth=259, lampHeight=500 )    \n",
        "#lithopane = createLithopane(\"/content/shroud_face.png\",3.0, size=(100,100),bevel=5.0)\n",
        "#lithopane.save(\"lithopane_side1.stl\")\n"
      ],
      "execution_count": 17,
      "outputs": [
        {
          "output_type": "stream",
          "text": [
            "(501, 501)\n",
            "adding padding to img=<PIL.Image.Image image mode=L size=501x501 at 0x7FAE0743ECC0>\n",
            "501 501\n",
            "DepthArray shape:(501, 501)\n",
            "501\n",
            "MAXZ:1.2246467572939613e-14\n",
            "MINZ:-5.0\n",
            "(501, 1001)\n",
            "adding padding to img=<PIL.Image.Image image mode=L size=501x987 at 0x7FAE1D082550>\n",
            "DepthArray shape:(1001, 501)\n",
            "AB=6.529931086925803 AC=5.0 BC=4.2\n",
            "Width: 5.0,delta_x:0.5\n",
            "Rotated Point:(2.701406762977747, -3.215960432116367)\n",
            "Rotated Point:(3.467111627767358, -2.572768345693094)\n",
            "Rotated Point:(3.849964060162164, -2.251172302481457)\n",
            "Rotated Point:(4.232816492556969, -1.929576259269821)\n",
            "Rotated Point:(4.615668924951775, -1.6079802160581844)\n",
            "Rotated Point:(4.998521357346581, -1.2863841728465477)\n",
            "Rotated Point:(5.381373789741387, -0.9647881296349112)\n",
            "Rotated Point:(5.764226222136192, -0.6431920864232747)\n",
            "Rotated Point:(6.147078654530997, -0.32159604321163826)\n",
            "Rotated Point:(6.529931086925803, -1.7763568394002505e-15)\n",
            "MAXZ:3.2159605026245117\n",
            "MINZ:-1.4814814329147339\n",
            "size:(6.1470785, 200.0, 4.697442)\n",
            "1001\n",
            "MAXZ:9.325872983334841e-16\n",
            "MINZ:-200.0\n",
            "(501, 1001)\n",
            "adding padding to img=<PIL.Image.Image image mode=L size=501x987 at 0x7FAE1D082550>\n",
            "DepthArray shape:(1001, 501)\n",
            "AB=6.529931086925803 AC=5.0 BC=4.2\n",
            "Width: 5.0,delta_x:0.5\n",
            "Rotated Point:(2.701406762977747, -3.215960432116367)\n",
            "Rotated Point:(3.467111627767358, -2.572768345693094)\n",
            "Rotated Point:(3.849964060162164, -2.251172302481457)\n",
            "Rotated Point:(4.232816492556969, -1.929576259269821)\n",
            "Rotated Point:(4.615668924951775, -1.6079802160581844)\n",
            "Rotated Point:(4.998521357346581, -1.2863841728465477)\n",
            "Rotated Point:(5.381373789741387, -0.9647881296349112)\n",
            "Rotated Point:(5.764226222136192, -0.6431920864232747)\n",
            "Rotated Point:(6.147078654530997, -0.32159604321163826)\n",
            "Rotated Point:(6.529931086925803, -1.7763568394002505e-15)\n",
            "MAXZ:3.2159605026245117\n",
            "MINZ:-1.4814814329147339\n",
            "size:(6.1470785, 200.0, 4.697442)\n",
            "1001\n",
            "MAXZ:9.325872983334841e-16\n",
            "MINZ:-200.0\n",
            "Lithopane3 dim:(105.0, 5.0, 200.0)\n",
            "(501, 1001)\n",
            "adding padding to img=<PIL.Image.Image image mode=L size=501x988 at 0x7FADFE265B38>\n",
            "DepthArray shape:(1001, 501)\n",
            "AB=6.529931086925803 AC=5.0 BC=4.2\n",
            "Width: 5.0,delta_x:0.5\n",
            "Rotated Point:(2.701406762977747, -3.215960432116367)\n",
            "Rotated Point:(3.467111627767358, -2.572768345693094)\n",
            "Rotated Point:(3.849964060162164, -2.251172302481457)\n",
            "Rotated Point:(4.232816492556969, -1.929576259269821)\n",
            "Rotated Point:(4.615668924951775, -1.6079802160581844)\n",
            "Rotated Point:(4.998521357346581, -1.2863841728465477)\n",
            "Rotated Point:(5.381373789741387, -0.9647881296349112)\n",
            "Rotated Point:(5.764226222136192, -0.6431920864232747)\n",
            "Rotated Point:(6.147078654530997, -0.32159604321163826)\n",
            "Rotated Point:(6.529931086925803, -1.7763568394002505e-15)\n",
            "MAXZ:3.2159605026245117\n",
            "MINZ:-1.4814814329147339\n",
            "size:(6.1470785, 200.0, 4.697442)\n",
            "1001\n",
            "(501, 1001)\n",
            "adding padding to img=<PIL.Image.Image image mode=L size=501x988 at 0x7FAE074BEDD8>\n",
            "DepthArray shape:(1001, 501)\n",
            "AB=6.529931086925803 AC=5.0 BC=4.2\n",
            "Width: 5.0,delta_x:0.5\n",
            "Rotated Point:(2.701406762977747, -3.215960432116367)\n",
            "Rotated Point:(3.467111627767358, -2.572768345693094)\n",
            "Rotated Point:(3.849964060162164, -2.251172302481457)\n",
            "Rotated Point:(4.232816492556969, -1.929576259269821)\n",
            "Rotated Point:(4.615668924951775, -1.6079802160581844)\n",
            "Rotated Point:(4.998521357346581, -1.2863841728465477)\n",
            "Rotated Point:(5.381373789741387, -0.9647881296349112)\n",
            "Rotated Point:(5.764226222136192, -0.6431920864232747)\n",
            "Rotated Point:(6.147078654530997, -0.32159604321163826)\n",
            "Rotated Point:(6.529931086925803, -1.7763568394002505e-15)\n",
            "MAXZ:3.2159605026245117\n",
            "MINZ:-1.4814814329147339\n",
            "size:(6.1470785, 200.0, 4.697442)\n",
            "1001\n"
          ],
          "name": "stdout"
        }
      ]
    },
    {
      "cell_type": "markdown",
      "metadata": {
        "id": "xBk2lksYmnbT",
        "colab_type": "text"
      },
      "source": [
        "# Upload images"
      ]
    },
    {
      "cell_type": "code",
      "metadata": {
        "id": "ONzks75xmxcK",
        "colab_type": "code",
        "outputId": "4fdbea1f-ba7b-47fc-8cf1-70191d7ef487",
        "colab": {
          "resources": {
            "http://localhost:8080/nbextensions/google.colab/files.js": {
              "data": "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",
              "ok": true,
              "headers": [
                [
                  "content-type",
                  "application/javascript"
                ]
              ],
              "status": 200,
              "status_text": ""
            }
          },
          "base_uri": "https://localhost:8080/",
          "height": 37
        }
      },
      "source": [
        "from google.colab import files\n",
        "\n",
        "uploaded = files.upload()\n",
        "\n",
        "for fn in uploaded.keys():\n",
        "  print('User uploaded file \"{name}\" with length {length} bytes'.format(\n",
        "      name=fn, length=len(uploaded[fn])))\n",
        "  \n"
      ],
      "execution_count": 12,
      "outputs": [
        {
          "output_type": "display_data",
          "data": {
            "text/html": [
              "\n",
              "     <input type=\"file\" id=\"files-92e634d7-5fec-4a3c-b619-00a3839d12cc\" name=\"files[]\" multiple disabled />\n",
              "     <output id=\"result-92e634d7-5fec-4a3c-b619-00a3839d12cc\">\n",
              "      Upload widget is only available when the cell has been executed in the\n",
              "      current browser session. Please rerun this cell to enable.\n",
              "      </output>\n",
              "      <script src=\"/nbextensions/google.colab/files.js\"></script> "
            ],
            "text/plain": [
              "<IPython.core.display.HTML object>"
            ]
          },
          "metadata": {
            "tags": []
          }
        }
      ]
    },
    {
      "cell_type": "code",
      "metadata": {
        "id": "vuqMvNC8rCT_",
        "colab_type": "code",
        "outputId": "ced3c089-b22a-4e43-8f2f-6594a57b25ff",
        "colab": {
          "base_uri": "https://localhost:8080/",
          "height": 439
        }
      },
      "source": [
        "import bezier\n",
        "import numpy as np\n",
        "\n",
        "nodes1 = np.asfortranarray([\n",
        "        [0.0, 0.5, 1.0],\n",
        "        [0.0, 1.0, 0.0],\n",
        "  ])\n",
        "curve1 = bezier.Curve(nodes1, degree=2)\n",
        "curve1.plot(num_pts=250)\n",
        "\n",
        "s_vals = np.linspace(0.0, 1.0, 10)\n",
        "\n",
        "points = curve1.evaluate_multi(s_vals)\n",
        "\n",
        "print(np.stack(points, axis=-1))\n",
        "\n"
      ],
      "execution_count": 99,
      "outputs": [
        {
          "output_type": "stream",
          "text": [
            "[[0.         0.        ]\n",
            " [0.11111111 0.19753086]\n",
            " [0.22222222 0.34567901]\n",
            " [0.33333333 0.44444444]\n",
            " [0.44444444 0.49382716]\n",
            " [0.55555556 0.49382716]\n",
            " [0.66666667 0.44444444]\n",
            " [0.77777778 0.34567901]\n",
            " [0.88888889 0.19753086]\n",
            " [1.         0.        ]]\n"
          ],
          "name": "stdout"
        },
        {
          "output_type": "display_data",
          "data": {
            "image/png": "[encoded data removed]",
            "text/plain": [
              "<Figure size 432x288 with 1 Axes>"
            ]
          },
          "metadata": {
            "tags": []
          }
        }
      ]
    },
    {
      "cell_type": "code",
      "metadata": {
        "id": "iVYjJ3JiFxtb",
        "colab_type": "code",
        "outputId": "22527036-3af4-4a24-a29d-c7f2f5c58f1b",
        "colab": {
          "base_uri": "https://localhost:8080/",
          "height": 442
        }
      },
      "source": [
        "files.download('lithopane.stl')"
      ],
      "execution_count": 0,
      "outputs": [
        {
          "output_type": "stream",
          "text": [
            "----------------------------------------\n",
            "Exception happened during processing of request from ('::ffff:127.0.0.1', 44664, 0, 0)\n",
            "Traceback (most recent call last):\n",
            "  File \"/usr/lib/python3.6/socketserver.py\", line 320, in _handle_request_noblock\n",
            "    self.process_request(request, client_address)\n",
            "  File \"/usr/lib/python3.6/socketserver.py\", line 351, in process_request\n",
            "    self.finish_request(request, client_address)\n",
            "  File \"/usr/lib/python3.6/socketserver.py\", line 364, in finish_request\n",
            "    self.RequestHandlerClass(request, client_address, self)\n",
            "  File \"/usr/lib/python3.6/socketserver.py\", line 724, in __init__\n",
            "    self.handle()\n",
            "  File \"/usr/lib/python3.6/http/server.py\", line 418, in handle\n",
            "    self.handle_one_request()\n",
            "  File \"/usr/lib/python3.6/http/server.py\", line 406, in handle_one_request\n",
            "    method()\n",
            "  File \"/usr/lib/python3.6/http/server.py\", line 639, in do_GET\n",
            "    self.copyfile(f, self.wfile)\n",
            "  File \"/usr/lib/python3.6/http/server.py\", line 800, in copyfile\n",
            "    shutil.copyfileobj(source, outputfile)\n",
            "  File \"/usr/lib/python3.6/shutil.py\", line 82, in copyfileobj\n",
            "    fdst.write(buf)\n",
            "  File \"/usr/lib/python3.6/socketserver.py\", line 803, in write\n",
            "    self._sock.sendall(b)\n",
            "ConnectionResetError: [Errno 104] Connection reset by peer\n",
            "----------------------------------------\n"
          ],
          "name": "stderr"
        }
      ]
    },
    {
      "cell_type": "code",
      "metadata": {
        "id": "OcFbIW_rt12s",
        "colab_type": "code",
        "outputId": "fe866fd7-8e61-4dbe-f495-e00bc0510431",
        "colab": {
          "base_uri": "https://localhost:8080/",
          "height": 272
        }
      },
      "source": [
        "mesh = createBevelMesh(3.0, 5.0 ,510, bezierThreshold=3.0)\n",
        "#mesh.x+=10.0\n",
        "mesh.save(\"bevel.stl\")\n",
        "\n",
        "from google.colab import files\n",
        "\n",
        "files.download('bevel.stl')"
      ],
      "execution_count": 95,
      "outputs": [
        {
          "output_type": "stream",
          "text": [
            "AB=5.830951894845301 AC=3.0 BC=5.0\n",
            "Width: 3.0,delta_x:0.3\n",
            "Rotated Point:(4.287464628562721, -2.5724787771376323)\n",
            "Rotated Point:(4.596162081819237, -2.057983021710106)\n",
            "Rotated Point:(4.750510808447495, -1.8007351439963426)\n",
            "Rotated Point:(4.904859535075753, -1.5434872662825794)\n",
            "Rotated Point:(5.05920826170401, -1.286239388568816)\n",
            "Rotated Point:(5.213556988332268, -1.028991510855053)\n",
            "Rotated Point:(5.367905714960527, -0.7717436331412895)\n",
            "Rotated Point:(5.522254441588784, -0.5144957554275265)\n",
            "Rotated Point:(5.676603168217042, -0.257247877713763)\n",
            "Rotated Point:(5.830951894845301, 4.440892098500626e-16)\n",
            "MAXZ:2.572478771209717\n",
            "MINZ:-1.4814814329147339\n",
            "size:(5.6766033, 510.0, 4.0539603)\n"
          ],
          "name": "stdout"
        }
      ]
    }
  ]
}